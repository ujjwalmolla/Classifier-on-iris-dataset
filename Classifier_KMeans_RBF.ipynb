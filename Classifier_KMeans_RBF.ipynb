{
 "cells": [
  {
   "cell_type": "code",
   "execution_count": 31,
   "id": "dab273bd",
   "metadata": {},
   "outputs": [],
   "source": [
    "import pandas as pd\n",
    "import numpy as np\n",
    "import matplotlib.pyplot as plt\n",
    "import math\n",
    "import seaborn as sns\n",
    "import warnings \n",
    "warnings.filterwarnings(\"ignore\")\n",
    "%matplotlib inline\n",
    "from sklearn.model_selection import train_test_split\n",
    "from sklearn.utils import shuffle\n",
    "from collections import defaultdict"
   ]
  },
  {
   "cell_type": "code",
   "execution_count": 32,
   "id": "767e56dd",
   "metadata": {},
   "outputs": [],
   "source": [
    "def euclidean_dis(x1, x2):\n",
    "    return np.sqrt(np.sum((x1 - x2)**2))"
   ]
  },
  {
   "cell_type": "code",
   "execution_count": 33,
   "id": "8a3af907",
   "metadata": {},
   "outputs": [],
   "source": [
    "def initialize_centroids(data,K):\n",
    "    centroids = []\n",
    "    for i in range(K):\n",
    "        centroids.append(data[i])\n",
    "    return centroids"
   ]
  },
  {
   "cell_type": "code",
   "execution_count": 34,
   "id": "a1ab17c1",
   "metadata": {},
   "outputs": [],
   "source": [
    "def isConverged(K,old_centroid,new_centroid):\n",
    "\n",
    "    for i in range(len(new_centroid)):\n",
    "        for j in range(len(new_centroid[i])):\n",
    "            if new_centroid[i][j]!=old_centroid[i][j]:\n",
    "                return False\n",
    "    return True"
   ]
  },
  {
   "cell_type": "code",
   "execution_count": 35,
   "id": "a242cddf",
   "metadata": {},
   "outputs": [],
   "source": [
    "def kmeans(data,K):\n",
    "    centroids=initialize_centroids(data,K)\n",
    "\n",
    "    while(True):\n",
    "\n",
    "        classes=[[] for i in range(K)]\n",
    "        old_centroid=centroids[:]\n",
    "        for datapoint in data:\n",
    "            distance=[]\n",
    "            for j in range(K):\n",
    "\n",
    "                dis=euclidean_dis(datapoint,centroids[j])\n",
    "\n",
    "                distance.append(dis)\n",
    "\n",
    "            index=distance.index(min(distance))\n",
    "            classes[index].append(datapoint)\n",
    "        \n",
    "            \n",
    "\n",
    "        for c in range(K):\n",
    "            new_centroid=np.mean(classes[c],axis=0)\n",
    "            centroids[c]=new_centroid\n",
    "\n",
    "        if isConverged(K,old_centroid,centroids):\n",
    "            break\n",
    "\n",
    "    \n",
    "    return classes,centroids"
   ]
  },
  {
   "cell_type": "code",
   "execution_count": 36,
   "id": "6d54c1db",
   "metadata": {},
   "outputs": [],
   "source": [
    "def calculate_distortion(classes,centroids):\n",
    "    dist=0\n",
    "    for i in range(len(centroids)):\n",
    "        c=classes[i]\n",
    "        cent=centroids[i]\n",
    "        temp_dist=0\n",
    "        for j in range(len(c)):\n",
    "            temp_dist+=euclidean_dis(c[j],cent)\n",
    "        dist+=temp_dist\n",
    "        \n",
    "    return dist/len(classes)"
   ]
  },
  {
   "cell_type": "code",
   "execution_count": 37,
   "id": "69bef962",
   "metadata": {},
   "outputs": [],
   "source": [
    "def plot_distortion(k,distortion):\n",
    "    plt.plot(k,distortion)\n",
    "    plt.xlabel(\"cluster(k)\")\n",
    "    plt.ylabel(\"Distortion\")\n",
    "    plt.title(\"No of cluster(k) vs distortion\")\n",
    "    plt.show()"
   ]
  },
  {
   "cell_type": "code",
   "execution_count": 38,
   "id": "c1100972",
   "metadata": {},
   "outputs": [],
   "source": [
    "def plot_error(k,error):\n",
    "    plt.plot(k,error)\n",
    "    plt.xlabel(\"cluster(k)\")\n",
    "    plt.ylabel(\"Error\")\n",
    "    plt.title(\"No of cluster(k) vs error\")\n",
    "    plt.show()"
   ]
  },
  {
   "cell_type": "code",
   "execution_count": 39,
   "id": "013ad9b7",
   "metadata": {},
   "outputs": [],
   "source": [
    "def get_index(c,x):\n",
    "    for i in range(len(x)):\n",
    "        if (x[i]==c).all():\n",
    "            return i"
   ]
  },
  {
   "cell_type": "code",
   "execution_count": 40,
   "id": "ad48a361",
   "metadata": {},
   "outputs": [],
   "source": [
    "def cal_missclassification(classes,x,y):\n",
    "    count=0\n",
    "    for i in range(len(classes)):\n",
    "        c=classes[i]\n",
    "        for j in range(len(c)):\n",
    "            ind=get_index(c[j],x)\n",
    "            if y[ind]==i:\n",
    "                count+=1\n",
    "    return len(x)-count\n",
    "        "
   ]
  },
  {
   "cell_type": "code",
   "execution_count": 56,
   "id": "724d9311",
   "metadata": {},
   "outputs": [
    {
     "data": {
      "image/png": "[encoded data removed]",
      "text/plain": [
       "<Figure size 432x288 with 1 Axes>"
      ]
     },
     "metadata": {
      "needs_background": "light"
     },
     "output_type": "display_data"
    },
    {
     "data": {
      "image/png": "[encoded data removed]",
      "text/plain": [
       "<Figure size 432x288 with 1 Axes>"
      ]
     },
     "metadata": {
      "needs_background": "light"
     },
     "output_type": "display_data"
    }
   ],
   "source": [
    "df=pd.read_csv('iris.csv')\n",
    "x=(df.iloc[:,1:5]).to_numpy()\n",
    "y=(df.iloc[:,-1]).to_numpy()\n",
    "\n",
    "\n",
    "for i in range(len(y)):\n",
    "    if y[i]=='Iris-setosa':\n",
    "        y[i]=0\n",
    "    elif y[i]=='Iris-versicolor':\n",
    "        y[i]=1\n",
    "    elif y[i]=='Iris-virginica':\n",
    "        y[i]=2\n",
    "x,y=shuffle(x,y,random_state=0)\n",
    "x_train,x_test,y_train,y_test=train_test_split(x,y,test_size=0.3,random_state=0)  \n",
    "\n",
    "\n",
    "k=list(range(1, 10))\n",
    "error=[]\n",
    "distortion=[]\n",
    "for i in range(len(k)):\n",
    "    \n",
    "    classes,centroids=kmeans(x_train,k[i])\n",
    "    d=calculate_distortion(classes,centroids)\n",
    "    distortion.append(d)\n",
    "    e=cal_missclassification(classes,x_train,y_train)\n",
    "    error.append(e)\n",
    "plot_distortion(k,distortion)\n",
    "plot_error(k,error)\n",
    "\n"
   ]
  },
  {
   "cell_type": "code",
   "execution_count": null,
   "id": "4087ee79",
   "metadata": {},
   "outputs": [],
   "source": []
  },
  {
   "cell_type": "code",
   "execution_count": 42,
   "id": "a2157af0",
   "metadata": {},
   "outputs": [],
   "source": [
    "def cal_phix(x,u,sigma):\n",
    "    t=np.linalg.norm(x-u)\n",
    "    return math.exp(-t**2/(2*(sigma)**2))"
   ]
  },
  {
   "cell_type": "code",
   "execution_count": 43,
   "id": "ede7ad3f",
   "metadata": {},
   "outputs": [],
   "source": [
    "def onehot(y,k):\n",
    "    y_hot=[[0]*k]*len(y)\n",
    "    for i in range(len(y)):\n",
    "        if y[i]==0:\n",
    "            y_hot[i]=[1,0,0]\n",
    "        elif y[i]==1:\n",
    "            y_hot[i]=[0,1,0]\n",
    "        elif y[i]==2:\n",
    "            y_hot[i]=[0,0,1]\n",
    "    return y_hot"
   ]
  },
  {
   "cell_type": "code",
   "execution_count": 44,
   "id": "48c4b442",
   "metadata": {},
   "outputs": [],
   "source": [
    "def cal_wcap(phi,y):\n",
    "    #np.linalg.inv(a)\n",
    "    phi=np.array(phi)\n",
    "    t=np.dot(phi.T,phi)\n",
    "    inverse=np.linalg.inv(t)\n",
    "    return inverse*np.dot(phi.T,y)"
   ]
  },
  {
   "cell_type": "code",
   "execution_count": 45,
   "id": "c3c66db5",
   "metadata": {},
   "outputs": [],
   "source": [
    "def predict(phi_test,wcap):\n",
    "    return np.dot(phi_test,wcap)"
   ]
  },
  {
   "cell_type": "code",
   "execution_count": 46,
   "id": "da1fd2da",
   "metadata": {},
   "outputs": [],
   "source": [
    "def cal_accuracy(y_test,y_test_pred):\n",
    "    count=0\n",
    "    for i in range(len(y_test)):\n",
    "        ind=np.argmax(y_test_pred[i])\n",
    "        if ind==y_test[i]:\n",
    "            count+=1\n",
    "    return count/len(y_test)"
   ]
  },
  {
   "cell_type": "code",
   "execution_count": 47,
   "id": "2719e431",
   "metadata": {},
   "outputs": [],
   "source": [
    "\n",
    "\n",
    "\n",
    "df=pd.read_csv('iris.csv')\n",
    "x=(df.iloc[:,1:5]).to_numpy()\n",
    "y=(df.iloc[:,-1]).to_numpy()\n",
    "\n",
    "\n",
    "for i in range(len(y)):\n",
    "    if y[i]=='Iris-setosa':\n",
    "        y[i]=0\n",
    "    elif y[i]=='Iris-versicolor':\n",
    "        y[i]=1\n",
    "    elif y[i]=='Iris-virginica':\n",
    "        y[i]=2\n",
    "        \n",
    "x,y=shuffle(x,y,random_state=0)\n",
    "x_train,x_test,y_train,y_test=train_test_split(x,y,test_size=0.3,random_state=31)\n",
    "\n",
    "#optimal cluster\n",
    "K=3\n",
    "classes,centroids=kmeans(x,K)"
   ]
  },
  {
   "cell_type": "code",
   "execution_count": 48,
   "id": "77263970",
   "metadata": {},
   "outputs": [
    {
     "name": "stdout",
     "output_type": "stream",
     "text": [
      "[0, 1.7884235436555795, 4.988054041834385, 3.346416464356444]\n"
     ]
    }
   ],
   "source": [
    "d=[0]\n",
    "for i in range(K):\n",
    "    ui=centroids[i]\n",
    "    for j in range(i+1,K):\n",
    "        uj=centroids[j]\n",
    "        t=np.linalg.norm(ui-uj)\n",
    "        d.append(t)\n",
    "print(d)\n",
    "dmax=max(d)"
   ]
  },
  {
   "cell_type": "code",
   "execution_count": 49,
   "id": "99ae1e4d",
   "metadata": {},
   "outputs": [],
   "source": [
    "sigma=dmax/math.sqrt(2*K)"
   ]
  },
  {
   "cell_type": "code",
   "execution_count": 50,
   "id": "bd80d376",
   "metadata": {},
   "outputs": [],
   "source": [
    "phix=[]\n",
    "for i in range(len(x_train)):\n",
    "    temp=[]\n",
    "    for j in range(K):\n",
    "        t=cal_phix(x_train[i],centroids[j],sigma)\n",
    "        temp.append(t)\n",
    "    phix.append(temp)"
   ]
  },
  {
   "cell_type": "code",
   "execution_count": 51,
   "id": "84b7cab0",
   "metadata": {},
   "outputs": [],
   "source": [
    "y_train_encode=onehot(y_train,K)\n",
    "wcap=cal_wcap(phix,y_train_encode)"
   ]
  },
  {
   "cell_type": "code",
   "execution_count": 52,
   "id": "fccd3999",
   "metadata": {},
   "outputs": [],
   "source": [
    "phi_test=[]\n",
    "for i in range(len(x_test)):\n",
    "    temp=[]\n",
    "    for j in range(K):\n",
    "        t=cal_phix(x_test[i],centroids[j],sigma)\n",
    "        temp.append(t)\n",
    "    phi_test.append(temp)"
   ]
  },
  {
   "cell_type": "code",
   "execution_count": 53,
   "id": "d06565c5",
   "metadata": {},
   "outputs": [],
   "source": [
    "y_test_pred=predict(phi_test,wcap)"
   ]
  },
  {
   "cell_type": "code",
   "execution_count": 54,
   "id": "a291be68",
   "metadata": {},
   "outputs": [],
   "source": [
    "accuracy=cal_accuracy(y_test,y_test_pred)"
   ]
  },
  {
   "cell_type": "code",
   "execution_count": 55,
   "id": "a30cdba6",
   "metadata": {},
   "outputs": [
    {
     "name": "stdout",
     "output_type": "stream",
     "text": [
      "Accuracy on test set: 84.44444444444444 %\n"
     ]
    }
   ],
   "source": [
    "print(\"Accuracy on test set:\",accuracy*100,\"%\")"
   ]
  },
  {
   "cell_type": "code",
   "execution_count": null,
   "id": "01c4882a",
   "metadata": {},
   "outputs": [],
   "source": []
  },
  {
   "cell_type": "code",
   "execution_count": null,
   "id": "742380fb",
   "metadata": {},
   "outputs": [],
   "source": []
  }
 ],
 "metadata": {
  "kernelspec": {
   "display_name": "Python 3",
   "language": "python",
   "name": "python3"
  },
  "language_info": {
   "codemirror_mode": {
    "name": "ipython",
    "version": 3
   },
   "file_extension": ".py",
   "mimetype": "text/x-python",
   "name": "python",
   "nbconvert_exporter": "python",
   "pygments_lexer": "ipython3",
   "version": "3.8.8"
  }
 },
 "nbformat": 4,
 "nbformat_minor": 5
}
