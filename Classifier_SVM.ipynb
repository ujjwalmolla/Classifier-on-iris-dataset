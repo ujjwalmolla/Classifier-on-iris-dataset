{
 "cells": [
  {
   "cell_type": "code",
   "execution_count": 36,
   "id": "0c846a07",
   "metadata": {},
   "outputs": [],
   "source": [
    "import pandas as pd\n",
    "import numpy as np\n",
    "import matplotlib.pyplot as plt\n",
    "from sklearn.utils import shuffle\n",
    "from sklearn.model_selection import train_test_split"
   ]
  },
  {
   "cell_type": "code",
   "execution_count": 37,
   "id": "d5cc96ff",
   "metadata": {},
   "outputs": [],
   "source": [
    "class svm:\n",
    "    def __init__(self,data,lr,lamb):\n",
    "        self.lr=lr\n",
    "        self.lamb=lamb\n",
    "        self.w=np.zeros(len(data[0]))\n",
    "        self.b=0\n",
    "        \n",
    "\n",
    "    def fit(self,X,y):\n",
    "\n",
    "        while True:\n",
    "            w_old=self.w\n",
    "            b_old=self.b\n",
    "            for i,x_i in enumerate(X):\n",
    "                temp=y[i]*(np.dot(self.w,x_i)+self.b)>=1\n",
    "                if temp:\n",
    "                    self.w-=self.lr * (2 * self.lamb * self.w)\n",
    "                else:\n",
    "                    self.w-=self.lr * (2 * self.lamb * self.w - np.dot(x_i,y[i]))\n",
    "                    self.b-=self.lr * (-y[i])\n",
    "            if self.isConverged(w_old,b_old):\n",
    "                print(\"converged\")\n",
    "                break\n",
    "            \n",
    "    def predict(self,X):\n",
    "        y_pred=[]\n",
    "        for i in range(len(X)):\n",
    "            t=np.dot(self.w,X[i])+self.b\n",
    "            y_pred.append(np.sign(t))\n",
    "        return y_pred\n",
    "    \n",
    "    def isConverged(self,old_w,old_b):\n",
    "        if old_b!=self.b:\n",
    "            return False\n",
    "        for i in range(len(old_w)):\n",
    "            if self.w[i]!=old_w[i]:\n",
    "                return False\n",
    "            \n",
    "        return True\n",
    "        \n",
    "    "
   ]
  },
  {
   "cell_type": "code",
   "execution_count": 38,
   "id": "5aaa60e5",
   "metadata": {},
   "outputs": [],
   "source": [
    "def cal_accuracy(y1,y2):\n",
    "    count=0\n",
    "    for i in range(len(y1)):\n",
    "        if int(y1[i])==int(y2[i]):\n",
    "            count+=1\n",
    "    return count/len(y1)"
   ]
  },
  {
   "cell_type": "code",
   "execution_count": 39,
   "id": "b6b3241e",
   "metadata": {},
   "outputs": [],
   "source": [
    "df=pd.read_csv('iris.csv')\n",
    "X=np.array(df.iloc[:100,1:3]).tolist()\n",
    "y=np.array(df.iloc[:100,-1]).tolist()\n",
    "for i in range(len(y)):\n",
    "    if y[i]=='Iris-setosa':\n",
    "        y[i]=-1\n",
    "    else:\n",
    "        y[i]=1\n",
    "\n",
    "X,y=shuffle(X,y,random_state=0)\n",
    "\n",
    "X_train,X_test,y_train,y_test=train_test_split(X,y,test_size=0.3,random_state=20)\n",
    "\n"
   ]
  },
  {
   "cell_type": "code",
   "execution_count": 40,
   "id": "0cfc0c42",
   "metadata": {},
   "outputs": [
    {
     "data": {
      "text/html": [
       "<div>\n",
       "<style scoped>\n",
       "    .dataframe tbody tr th:only-of-type {\n",
       "        vertical-align: middle;\n",
       "    }\n",
       "\n",
       "    .dataframe tbody tr th {\n",
       "        vertical-align: top;\n",
       "    }\n",
       "\n",
       "    .dataframe thead th {\n",
       "        text-align: right;\n",
       "    }\n",
       "</style>\n",
       "<table border=\"1\" class=\"dataframe\">\n",
       "  <thead>\n",
       "    <tr style=\"text-align: right;\">\n",
       "      <th></th>\n",
       "      <th>Id</th>\n",
       "      <th>SepalLengthCm</th>\n",
       "      <th>SepalWidthCm</th>\n",
       "      <th>PetalLengthCm</th>\n",
       "      <th>PetalWidthCm</th>\n",
       "      <th>Species</th>\n",
       "    </tr>\n",
       "  </thead>\n",
       "  <tbody>\n",
       "    <tr>\n",
       "      <th>0</th>\n",
       "      <td>1</td>\n",
       "      <td>5.1</td>\n",
       "      <td>3.5</td>\n",
       "      <td>1.4</td>\n",
       "      <td>0.2</td>\n",
       "      <td>Iris-setosa</td>\n",
       "    </tr>\n",
       "    <tr>\n",
       "      <th>1</th>\n",
       "      <td>2</td>\n",
       "      <td>4.9</td>\n",
       "      <td>3.0</td>\n",
       "      <td>1.4</td>\n",
       "      <td>0.2</td>\n",
       "      <td>Iris-setosa</td>\n",
       "    </tr>\n",
       "    <tr>\n",
       "      <th>2</th>\n",
       "      <td>3</td>\n",
       "      <td>4.7</td>\n",
       "      <td>3.2</td>\n",
       "      <td>1.3</td>\n",
       "      <td>0.2</td>\n",
       "      <td>Iris-setosa</td>\n",
       "    </tr>\n",
       "    <tr>\n",
       "      <th>3</th>\n",
       "      <td>4</td>\n",
       "      <td>4.6</td>\n",
       "      <td>3.1</td>\n",
       "      <td>1.5</td>\n",
       "      <td>0.2</td>\n",
       "      <td>Iris-setosa</td>\n",
       "    </tr>\n",
       "    <tr>\n",
       "      <th>4</th>\n",
       "      <td>5</td>\n",
       "      <td>5.0</td>\n",
       "      <td>3.6</td>\n",
       "      <td>1.4</td>\n",
       "      <td>0.2</td>\n",
       "      <td>Iris-setosa</td>\n",
       "    </tr>\n",
       "  </tbody>\n",
       "</table>\n",
       "</div>"
      ],
      "text/plain": [
       "   Id  SepalLengthCm  SepalWidthCm  PetalLengthCm  PetalWidthCm      Species\n",
       "0   1            5.1           3.5            1.4           0.2  Iris-setosa\n",
       "1   2            4.9           3.0            1.4           0.2  Iris-setosa\n",
       "2   3            4.7           3.2            1.3           0.2  Iris-setosa\n",
       "3   4            4.6           3.1            1.5           0.2  Iris-setosa\n",
       "4   5            5.0           3.6            1.4           0.2  Iris-setosa"
      ]
     },
     "execution_count": 40,
     "metadata": {},
     "output_type": "execute_result"
    }
   ],
   "source": [
    "df.head()"
   ]
  },
  {
   "cell_type": "code",
   "execution_count": 41,
   "id": "e28d4b61",
   "metadata": {},
   "outputs": [
    {
     "name": "stdout",
     "output_type": "stream",
     "text": [
      "converged\n",
      "W: [ 1.68957165 -2.7391498 ]\n",
      "b: -0.5100000000000002\n",
      "Test set accuracy: 100.0 %\n"
     ]
    }
   ],
   "source": [
    "lr,lamb=0.01,0.001\n",
    "svm_obj=svm(X_train,lr,lamb)\n",
    "svm_obj.fit(X_train,y_train)\n",
    "y_pred=svm_obj.predict(X_test)\n",
    "accuracy=cal_accuracy(y_test,y_pred)\n",
    "print(\"W:\",svm_obj.w)\n",
    "print(\"b:\",svm_obj.b)\n",
    "print(\"Test set accuracy:\",accuracy*100,\"%\")"
   ]
  },
  {
   "cell_type": "code",
   "execution_count": 42,
   "id": "18377b7d",
   "metadata": {},
   "outputs": [
    {
     "data": {
      "image/png": "[encoded data removed]",
      "text/plain": [
       "<Figure size 432x288 with 1 Axes>"
      ]
     },
     "metadata": {
      "needs_background": "light"
     },
     "output_type": "display_data"
    }
   ],
   "source": [
    "#plot svm\n",
    "X = [X_test[i][0] for i in range(len(X_test))]\n",
    "Y = [X_test[i][1] for i in range(len(X_test))]\n",
    "# print(X)\n",
    "# print(Y)\n",
    "\n",
    "a = -svm_obj.b/svm_obj.w[1]\n",
    "w = -svm_obj.w[0] / svm_obj.w[1]\n",
    "min_1=min(X)\n",
    "max_1=max(X)\n",
    "\n",
    "xx=[min_1,max_1]\n",
    "yy=[w*min_1+a,w*max_1+a]\n",
    "\n",
    "\n",
    "\n",
    "plt.scatter(X,Y,c = np.where(np.array(y_test)==1,\"red\",\"green\"))\n",
    "plt.plot(xx, yy)\n",
    "plt.xlabel(\"Sepal length\")\n",
    "plt.ylabel(\"Sepal width\")\n",
    "plt.show()"
   ]
  },
  {
   "cell_type": "code",
   "execution_count": null,
   "id": "b0d865e4",
   "metadata": {},
   "outputs": [],
   "source": []
  }
 ],
 "metadata": {
  "kernelspec": {
   "display_name": "Python 3",
   "language": "python",
   "name": "python3"
  },
  "language_info": {
   "codemirror_mode": {
    "name": "ipython",
    "version": 3
   },
   "file_extension": ".py",
   "mimetype": "text/x-python",
   "name": "python",
   "nbconvert_exporter": "python",
   "pygments_lexer": "ipython3",
   "version": "3.8.8"
  }
 },
 "nbformat": 4,
 "nbformat_minor": 5
}
